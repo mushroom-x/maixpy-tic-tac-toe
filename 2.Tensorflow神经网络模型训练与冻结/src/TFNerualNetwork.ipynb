{
 "cells": [
  {
   "cell_type": "markdown",
   "metadata": {},
   "source": [
    "# Tensorflow神经网络模型训练与冻结"
   ]
  },
  {
   "cell_type": "markdown",
   "metadata": {},
   "source": [
    "## 导入依赖"
   ]
  },
  {
   "cell_type": "code",
   "execution_count": 1,
   "metadata": {},
   "outputs": [
    {
     "name": "stderr",
     "output_type": "stream",
     "text": [
      "Using TensorFlow backend.\n"
     ]
    }
   ],
   "source": [
    "import tensorflow as tf\n",
    "from keras.utils import to_categorical # 用于转换label为one-hot矩阵\n",
    "import numpy as np\n",
    "import matplotlib.pyplot as plt"
   ]
  },
  {
   "cell_type": "markdown",
   "metadata": {},
   "source": [
    "## 导入数据集\n",
    "\n",
    "XO数据集是从EMNIST数据集经过预处理得到的，只筛选XO相关的数据,并且将向量转换为了2D图像。\n",
    "直接导入序列化后的数据集二进制文件。\n",
    "\n",
    "\n",
    "训练集里面, 字符`O`跟字符`X`各4800个样本。\n",
    "\n",
    "测试集里面, 字符`O`跟字符`X`各800个样本。\n",
    "\n",
    "他们的顺序是打乱的。"
   ]
  },
  {
   "cell_type": "code",
   "execution_count": 2,
   "metadata": {},
   "outputs": [],
   "source": [
    "import pickle\n",
    "\n",
    "dataset = None\n",
    "\n",
    "with open('../../common/xo_dataset.bin', 'rb') as f:\n",
    "    dataset = pickle.load(f)\n",
    "    \n",
    "# 训练集图像向量\n",
    "train_images = dataset['train_images']\n",
    "# 训练集标签\n",
    "train_labels = dataset['train_labels']\n",
    "# 测试集图像向量\n",
    "test_images = dataset['test_images']\n",
    "# 测试集标签\n",
    "test_labels = dataset['test_labels']"
   ]
  },
  {
   "cell_type": "markdown",
   "metadata": {},
   "source": [
    "### 样本图片\n",
    "每个样本图片的尺寸是28x28的灰度图\n"
   ]
  },
  {
   "cell_type": "code",
   "execution_count": 3,
   "metadata": {},
   "outputs": [
    {
     "data": {
      "text/plain": [
       "(28, 28)"
      ]
     },
     "execution_count": 3,
     "metadata": {},
     "output_type": "execute_result"
    }
   ],
   "source": [
    "train_images[0].shape"
   ]
  },
  {
   "cell_type": "code",
   "execution_count": 4,
   "metadata": {},
   "outputs": [
    {
     "data": {
      "text/plain": [
       "<matplotlib.image.AxesImage at 0x7fa817955748>"
      ]
     },
     "execution_count": 4,
     "metadata": {},
     "output_type": "execute_result"
    },
    {
     "data": {
      "image/png": "[encoded data removed]",
      "text/plain": [
       "<Figure size 432x288 with 1 Axes>"
      ]
     },
     "metadata": {
      "needs_background": "light"
     },
     "output_type": "display_data"
    }
   ],
   "source": [
    "#　字符O的样例图片\n",
    "plt.imshow(train_images[0], cmap='gray')"
   ]
  },
  {
   "cell_type": "code",
   "execution_count": 5,
   "metadata": {},
   "outputs": [
    {
     "data": {
      "text/plain": [
       "<matplotlib.image.AxesImage at 0x7fa8178ea978>"
      ]
     },
     "execution_count": 5,
     "metadata": {},
     "output_type": "execute_result"
    },
    {
     "data": {
      "image/png": "[encoded data removed]",
      "text/plain": [
       "<Figure size 432x288 with 1 Axes>"
      ]
     },
     "metadata": {
      "needs_background": "light"
     },
     "output_type": "display_data"
    }
   ],
   "source": [
    "# 字符X的样例图片\n",
    "plt.imshow(train_images[3], cmap='gray')"
   ]
  },
  {
   "cell_type": "markdown",
   "metadata": {},
   "source": [
    "###  Label数据"
   ]
  },
  {
   "cell_type": "markdown",
   "metadata": {},
   "source": [
    "关于label数据，标签数据数值范围是0-1, 0代表字符`O`, 1代表字符`X`"
   ]
  },
  {
   "cell_type": "code",
   "execution_count": 6,
   "metadata": {},
   "outputs": [
    {
     "data": {
      "text/plain": [
       "array([0, 1, 1, 1, 1, 0, 1, 1, 1, 0], dtype=uint8)"
      ]
     },
     "execution_count": 6,
     "metadata": {},
     "output_type": "execute_result"
    }
   ],
   "source": [
    "# 打印前10个label数据\n",
    "train_labels[0:10]"
   ]
  },
  {
   "cell_type": "markdown",
   "metadata": {},
   "source": [
    "## 数据预处理"
   ]
  },
  {
   "cell_type": "markdown",
   "metadata": {},
   "source": [
    "### 归一化\n",
    "将样本数据原来`0-255`数值范围的整数格式`uint8`，转换为`0-1.0`的浮点数`float32`。"
   ]
  },
  {
   "cell_type": "code",
   "execution_count": 7,
   "metadata": {},
   "outputs": [],
   "source": [
    "train_images = train_images / 255.0\n",
    "test_images = test_images / 255.0"
   ]
  },
  {
   "cell_type": "markdown",
   "metadata": {},
   "source": [
    "### 构造one-hot矩阵\n",
    "\n",
    "将原来的标签数组转换为one-hot矩阵"
   ]
  },
  {
   "cell_type": "code",
   "execution_count": 8,
   "metadata": {},
   "outputs": [],
   "source": [
    "train_labels = to_categorical(train_labels)\n",
    "test_labels = to_categorical(test_labels)"
   ]
  },
  {
   "cell_type": "markdown",
   "metadata": {},
   "source": [
    "打印一下转换后的one-hot矩阵的前10个样本，可以看到train_label被转换成了`Nx2`的结构， 第一列代表是不是字符`O`, 是的话对应的列就是`1`, 否则就是`0`. 同样,矩阵的第二列代表是否为字符`X`，是的话对应的列就是`1`, 否则就是`0`。"
   ]
  },
  {
   "cell_type": "code",
   "execution_count": 9,
   "metadata": {},
   "outputs": [
    {
     "data": {
      "text/plain": [
       "array([[1., 0.],\n",
       "       [0., 1.],\n",
       "       [0., 1.],\n",
       "       [0., 1.],\n",
       "       [0., 1.],\n",
       "       [1., 0.],\n",
       "       [0., 1.],\n",
       "       [0., 1.],\n",
       "       [0., 1.],\n",
       "       [1., 0.]], dtype=float32)"
      ]
     },
     "execution_count": 9,
     "metadata": {},
     "output_type": "execute_result"
    }
   ],
   "source": [
    "train_labels[:10]"
   ]
  },
  {
   "cell_type": "markdown",
   "metadata": {},
   "source": [
    "## 生成Batch数据\n",
    "\n",
    "在用Tensorflow进行模型训练的时候，需要生成Batch数据，就是模型迭代一次权重所需要的样本。"
   ]
  },
  {
   "cell_type": "code",
   "execution_count": 10,
   "metadata": {},
   "outputs": [],
   "source": [
    "def next_batch(train_images, train_labels, batch_size):\n",
    "    # 生成索引数组 [0, 1, 2, 3, 4. ...., N]\n",
    "    idxs = np.array([i for i in range(len(train_images))])\n",
    "    # 将原来的数组重新打乱顺序\n",
    "    np.random.shuffle(idxs)\n",
    "    # 取前batch_size个索引\n",
    "    top_idxs = idxs[:batch_size]\n",
    "    # 根据索引数组得到训练集的图像\n",
    "    return train_images[top_idxs], train_labels[top_idxs]\n",
    "    "
   ]
  },
  {
   "cell_type": "markdown",
   "metadata": {},
   "source": [
    "## 权重初始化\n",
    "\n",
    "在神经网络模型训练之前，需要给神经网络的权重设置一个初始值，一般采用随机生成的方式。"
   ]
  },
  {
   "cell_type": "code",
   "execution_count": 11,
   "metadata": {},
   "outputs": [],
   "source": [
    "def weight_variable(shape):\n",
    "    '''\n",
    "    权重初始化  weight init\n",
    "    初始化为一个接近0的很小的正数  init to a small number close to zero\n",
    "    '''\n",
    "    initial = tf.truncated_normal(shape, stddev = 0.1)\n",
    "    return tf.Variable(initial)\n",
    "\n",
    "def bias_variable(shape):\n",
    "    '''Bias变量初始化'''\n",
    "    initial = tf.constant(0.1, shape = shape)\n",
    "    return tf.Variable(initial)\n"
   ]
  },
  {
   "cell_type": "markdown",
   "metadata": {},
   "source": [
    "## 定义神经网络的结构\n",
    "\n",
    "在设计神经网络结构的时候，一定要去查一下**K210当下是否支持相应的Layer与激活函数**.\n",
    "\n",
    "你可以在[kendryte/nncase](https://github.com/kendryte/nncase/)的README页面查看K210支持的层**Support Layer**.\n",
    "\n",
    "另外，对于神经网络来说,用到的层只有全连接层**FullyConnected**。\n",
    "\n",
    "K210所支持的激活函数如下\n",
    "* Sigmoid\n",
    "* Relu\n",
    "* Relu6\n",
    "* LeakyRelu\n",
    "* Softmax\n",
    "\n",
    "激活函数，在当前的这个模型里面，用到了`Relu` 还有`Softmax`. \n",
    "\n",
    "K210支持的卷积层，池化层等其他层，请查阅文档。"
   ]
  },
  {
   "cell_type": "markdown",
   "metadata": {},
   "source": [
    "输入层的尺寸为 Nx28x28， 每一个输入样本都是一个28x28的矩阵"
   ]
  },
  {
   "cell_type": "code",
   "execution_count": 12,
   "metadata": {},
   "outputs": [],
   "source": [
    "# 输入的是28x28的图片 通道数为1\n",
    "input_size = [None, 28, 28]\n",
    "# Dropout的概率\n",
    "keep_prob = tf.placeholder(\"float\")\n",
    "# 输入数据\n",
    "x = tf.placeholder(tf.float32, input_size)"
   ]
  },
  {
   "cell_type": "markdown",
   "metadata": {},
   "source": [
    "接下来需要对模型进行变换，数据由原来的`28x28`的二维数组，转换为`28x28x1`的三维数组。\n",
    "\n",
    "之所以这样做， 是跟后期模型转换的时候有关，后面的教程我们再谈。"
   ]
  },
  {
   "cell_type": "code",
   "execution_count": 13,
   "metadata": {},
   "outputs": [],
   "source": [
    "x_image = tf.reshape(x, [-1, 28, 28, 1])  "
   ]
  },
  {
   "cell_type": "markdown",
   "metadata": {},
   "source": [
    "接下来是Flatten操作，将原来的28x28x1的结构变为1维向量。 与卷积神经网络不同， 神经网络并不会参考图像的2D空间特征，只是将其当做一个向量来处理。\n",
    "\n",
    "那为什么我们不在图像预处理的时候就转换成1维的数据呢？ \n",
    "\n",
    "嘻嘻,是为了最大限度的复用K210的提供的Demo例程。"
   ]
  },
  {
   "cell_type": "code",
   "execution_count": 14,
   "metadata": {},
   "outputs": [
    {
     "name": "stdout",
     "output_type": "stream",
     "text": [
      "WARNING:tensorflow:From <ipython-input-14-061b67464529>:2: flatten (from tensorflow.python.layers.core) is deprecated and will be removed in a future version.\n",
      "Instructions for updating:\n",
      "Use keras.layers.flatten instead.\n"
     ]
    }
   ],
   "source": [
    "# Flatten层\n",
    "x_flat = tf.layers.flatten(x_image)"
   ]
  },
  {
   "cell_type": "markdown",
   "metadata": {},
   "source": [
    "接下来是神经网络的全连接层(Fully Connected Layer),作为第一层隐藏层Hidden Layer。神经网络除了输入层与输出层，中间的均称之为隐藏层。\n",
    "全连接层的运算，可以转换为**矩阵运算**, 写成$y = X*W + b$的形式，　其中`X`是上一层的输入, `W`是权重矩阵, `b`是偏移量`bias`.\n",
    "\n",
    "\n",
    "转变为矩阵运算之后可以大幅提高计算速度，在权值保存的时候也更方便。\n",
    "\n",
    "神经网络有各种各样的激活函数**Active Function**，这里我们使用`Relu`作为神经网络的激活函数."
   ]
  },
  {
   "cell_type": "code",
   "execution_count": 15,
   "metadata": {},
   "outputs": [
    {
     "name": "stdout",
     "output_type": "stream",
     "text": [
      "WARNING:tensorflow:From /usr/local/lib/python3.6/dist-packages/tensorflow/python/framework/op_def_library.py:263: colocate_with (from tensorflow.python.framework.ops) is deprecated and will be removed in a future version.\n",
      "Instructions for updating:\n",
      "Colocations handled automatically by placer.\n"
     ]
    }
   ],
   "source": [
    "# 输入向量的维度\n",
    "IMAGE_RESHAPED = 784\n",
    "# 每层隐藏层神经元的个数\n",
    "N_HIDDEN = 128\n",
    "\n",
    "# 第一层 全连接层1\n",
    "W_fc1 = weight_variable([IMAGE_RESHAPED, N_HIDDEN])\n",
    "b_fc1 = bias_variable([N_HIDDEN])\n",
    "h_fc1 = tf.nn.relu(tf.matmul(x_flat, W_fc1) + b_fc1)"
   ]
  },
  {
   "cell_type": "markdown",
   "metadata": {},
   "source": [
    "`IMAGE_RESHAPED=784`是`28x28x1=784`的数据flatten之后的尺寸, `N_HIDDEN`是隐藏层神经网络的个数, 一共128个神经元，同时也对应着128个bias."
   ]
  },
  {
   "cell_type": "markdown",
   "metadata": {},
   "source": [
    "在模型训练的时候，还可以加上`Dropout`层，随机删除神经元，　网络表现力强，而且可以防止过拟合。\n",
    "\n",
    "K210并不支持`Dropout`层，但是训练的时候可以加。\n",
    "\n",
    "在模型训练结束之后，再将Dropout层删除。\n",
    "\n",
    "`keep_prob`代表每次迭代的时候神经元保留的概率."
   ]
  },
  {
   "cell_type": "code",
   "execution_count": 16,
   "metadata": {},
   "outputs": [
    {
     "name": "stdout",
     "output_type": "stream",
     "text": [
      "WARNING:tensorflow:From <ipython-input-16-31fb27abee06>:2: calling dropout (from tensorflow.python.ops.nn_ops) with keep_prob is deprecated and will be removed in a future version.\n",
      "Instructions for updating:\n",
      "Please use `rate` instead of `keep_prob`. Rate should be set to `rate = 1 - keep_prob`.\n"
     ]
    }
   ],
   "source": [
    "# Dropout\n",
    "h_fc1_drop = tf.nn.dropout(h_fc1, keep_prob)"
   ]
  },
  {
   "cell_type": "markdown",
   "metadata": {},
   "source": [
    "第二层隐藏层的结构跟第一层的很类似，上一层是`N_HIDDEN`个神经元, 当前的隐藏层同样也有`N_HIDDEN`个"
   ]
  },
  {
   "cell_type": "code",
   "execution_count": 17,
   "metadata": {},
   "outputs": [],
   "source": [
    "# 第二层 全连接层2\n",
    "W_fc2 = weight_variable([N_HIDDEN, N_HIDDEN])\n",
    "b_fc2 = bias_variable([N_HIDDEN])\n",
    "h_fc2 = tf.nn.relu(tf.matmul(h_fc1_drop, W_fc2) + b_fc2)\n",
    "h_fc2_drop = tf.nn.dropout(h_fc2, keep_prob)"
   ]
  },
  {
   "cell_type": "markdown",
   "metadata": {},
   "source": [
    "最后一层是输出层，该层也是全连接层，上一层神经元的节点个数是`N_HIDDEN`个，当前层的神经元个数为2,分别代表`O`跟`X`.\n",
    "\n",
    "激活函数使用的是`Softmax`, 使输出结果正规化。令输出结果范围在0-1之间, 而且所有的输出层结果数值相加等于1，相当于每个输出代表是这个类的概率，　`y_nn`就是最终的输出。\n"
   ]
  },
  {
   "cell_type": "code",
   "execution_count": 18,
   "metadata": {},
   "outputs": [],
   "source": [
    "# 第三层是输出层，　\n",
    "W_fc3 = weight_variable([N_HIDDEN, 2])\n",
    "b_fc3 = bias_variable([2])\n",
    "y_nn = tf.nn.softmax(tf.matmul(h_fc2_drop, W_fc3) + b_fc3)"
   ]
  },
  {
   "cell_type": "markdown",
   "metadata": {},
   "source": [
    "## 模型训练与评估"
   ]
  },
  {
   "cell_type": "markdown",
   "metadata": {},
   "source": [
    "\n"
   ]
  },
  {
   "cell_type": "code",
   "execution_count": 19,
   "metadata": {},
   "outputs": [],
   "source": [
    "# 真实的label数据 one_hot矩阵\n",
    "y_ref = tf.placeholder(\"float\", [None, 2])"
   ]
  },
  {
   "cell_type": "markdown",
   "metadata": {},
   "source": [
    "选用交叉熵**Cross Entroy**作为损失函数**Lost Function**, 损失函数是权重优化的依据，根据损失函数的梯度来优化参数。"
   ]
  },
  {
   "cell_type": "code",
   "execution_count": 20,
   "metadata": {},
   "outputs": [],
   "source": [
    "# 交叉熵\n",
    "cross_entropy = -tf.reduce_sum(y_ref * tf.log(y_nn))"
   ]
  },
  {
   "cell_type": "markdown",
   "metadata": {},
   "source": [
    "使用`ADAM`优化器来迭代更新权重, 制定学习率为`0.0001`, 定义ADam优化器的目标是使得损失函数最小化\n",
    "\n",
    "这里需要注意的是优化器的选择并不受K210的约束, 只在模型训练，权值迭代的时候产生作用,并不属于网络结构中的一部分。"
   ]
  },
  {
   "cell_type": "code",
   "execution_count": 21,
   "metadata": {},
   "outputs": [],
   "source": [
    "learning_rate = 0.0001 # 学习率\n",
    "# 定义优化器为ADam\n",
    "train_step = tf.train.AdamOptimizer(learning_rate).minimize(cross_entropy) #使用adam优化器来以0.0001的学习率来进行微调"
   ]
  },
  {
   "cell_type": "markdown",
   "metadata": {},
   "source": [
    "计算准确率**Accuracy** `acc`, 作为评价模型的指标。"
   ]
  },
  {
   "cell_type": "code",
   "execution_count": 22,
   "metadata": {},
   "outputs": [],
   "source": [
    "# 是否准确的布尔值列表\n",
    "correct_prediction = tf.equal(tf.argmax(y_nn,1), tf.argmax(y_ref,1)) #判断预测标签和实际标签是否匹配\n",
    "#　计算平均值即为准确率\n",
    "accuracy = tf.reduce_mean(tf.cast(correct_prediction,\"float\"))"
   ]
  },
  {
   "cell_type": "markdown",
   "metadata": {},
   "source": [
    "tf.Saver的使用可以看这篇Blog : [Tensorflow 模型的保存,读取和冻结,执行](https://www.jarvis73.cn/2018/04/25/Tensorflow-Model-Save-Read/)"
   ]
  },
  {
   "cell_type": "code",
   "execution_count": 23,
   "metadata": {},
   "outputs": [],
   "source": [
    "saver = tf.train.Saver()\n",
    "sess = tf.Session()\n",
    "sess.run(tf.global_variables_initializer()) #初始化变量\n",
    "merged = tf.summary.merge_all() \n",
    "# 制定检查点等模型训练日志存放在同级目录下的logs文件夹\n",
    "writer = tf.summary.FileWriter('logs',sess.graph)"
   ]
  },
  {
   "cell_type": "markdown",
   "metadata": {},
   "source": [
    "重复训练500个Batch,　每隔100个Batch输出一次日志"
   ]
  },
  {
   "cell_type": "code",
   "execution_count": 24,
   "metadata": {},
   "outputs": [
    {
     "name": "stdout",
     "output_type": "stream",
     "text": [
      "step 0, train_accuracy 0.593333\n",
      "step 100, train_accuracy 0.993333\n",
      "step 200, train_accuracy 0.986667\n",
      "step 300, train_accuracy 0.993333\n",
      "step 400, train_accuracy 0.993333\n",
      "step 500, train_accuracy 0.993333\n"
     ]
    }
   ],
   "source": [
    "for i in range(501): #开始训练模型，循环训练500次\n",
    "    batch = next_batch(train_images, train_labels, 150) #batch大小设置为50\n",
    "    if i % 100 == 0:\n",
    "        # 在测试的准确率的时候，需要设置keep_prob为1\n",
    "        train_accuracy = accuracy.eval(session = sess,\n",
    "                                       feed_dict = {x:batch[0], y_ref:batch[1], keep_prob:1.0})\n",
    "        print(\"step %d, train_accuracy %g\" %(i, train_accuracy))\n",
    "        # 保存检查点\n",
    "        saver.save(sess, 'model/nn_xo.ckpt')\n",
    "    # feed_dict中加入参数`keep_prob`控制`dropout`比例。\n",
    "    train_step.run(session = sess, feed_dict = {x:batch[0], y_ref:batch[1],\n",
    "                   keep_prob:0.7}) #神经元输出保持不变的概率 keep_prob 为0.5\n"
   ]
  },
  {
   "cell_type": "markdown",
   "metadata": {},
   "source": [
    "最终拿测试集来评价一下模型的准确率"
   ]
  },
  {
   "cell_type": "code",
   "execution_count": 25,
   "metadata": {},
   "outputs": [
    {
     "name": "stdout",
     "output_type": "stream",
     "text": [
      "WARNING:tensorflow:From /usr/local/lib/python3.6/dist-packages/tensorflow/python/training/saver.py:1266: checkpoint_exists (from tensorflow.python.training.checkpoint_management) is deprecated and will be removed in a future version.\n",
      "Instructions for updating:\n",
      "Use standard file APIs to check for files with this prefix.\n",
      "INFO:tensorflow:Restoring parameters from model/nn_xo.ckpt\n",
      "test accuracy 0.99125\n"
     ]
    }
   ],
   "source": [
    "sess = tf.InteractiveSession()\n",
    "sess.run(tf.global_variables_initializer())\n",
    "saver = tf.train.Saver(tf.global_variables())\n",
    "saver.restore(sess, 'model/nn_xo.ckpt')\n",
    "# 查看测试集的准确率\n",
    "print( \"test accuracy %g\" % accuracy.eval(feed_dict={\n",
    "    x:test_images, y_ref:test_labels, keep_prob:1.0}))\n"
   ]
  },
  {
   "cell_type": "markdown",
   "metadata": {},
   "source": [
    "## 模型冻结"
   ]
  },
  {
   "cell_type": "markdown",
   "metadata": {},
   "source": [
    "在模型训练完成之后, 所有的网络的权重还有Bias都不再变更了。接下来我们需要通过**模型冻结 Freeze**\n",
    "模型冻结的其中一种方法是将原来的变量`tf.variable`转变为常量`tf.constant`,并将权重保存在模型文件里面。"
   ]
  },
  {
   "cell_type": "markdown",
   "metadata": {},
   "source": [
    "通过`eval()`函数可以将tf.Variable导出权重的ndarray, 如下所示"
   ]
  },
  {
   "cell_type": "code",
   "execution_count": 26,
   "metadata": {},
   "outputs": [
    {
     "data": {
      "text/plain": [
       "array([0.0987657 , 0.09167684, 0.10189684, 0.09403343, 0.10781259,\n",
       "       0.10423934, 0.10627533, 0.10272716, 0.09875294, 0.09838467,\n",
       "       0.11374552, 0.10951015, 0.10813315, 0.11166847, 0.11739392,\n",
       "       0.09535608, 0.10067159, 0.09764701, 0.09580787, 0.10748729],\n",
       "      dtype=float32)"
      ]
     },
     "execution_count": 26,
     "metadata": {},
     "output_type": "execute_result"
    }
   ],
   "source": [
    "# 只输出前20个Bias\n",
    "b_fc1.eval()[:20]"
   ]
  },
  {
   "cell_type": "markdown",
   "metadata": {},
   "source": [
    "获得权重矩阵"
   ]
  },
  {
   "cell_type": "code",
   "execution_count": 27,
   "metadata": {},
   "outputs": [],
   "source": [
    "# 获取权重矩阵\n",
    "WFC1 = W_fc1.eval()\n",
    "BFC1 = b_fc1.eval()\n",
    "WFC2 = W_fc2.eval()\n",
    "BFC2 = b_fc2.eval()\n",
    "WFC3 = W_fc3.eval()\n",
    "BFC3 = b_fc3.eval()"
   ]
  },
  {
   "cell_type": "markdown",
   "metadata": {},
   "source": [
    "接下来，我们需要创建一个新的图, 做如下调整：\n",
    "\n",
    "1. 将原来的变量改为常量，并命名\n",
    "2. 命名输入层跟输出层。　这里输入层命名为`input_node`, 输出层命名为`ouput_node`\n",
    "3. 删除一些层，例如Dropout层只在模型训练的时候有用，前向计算就没了用处。\n",
    "4. 改变输入层的结构，训练的时候输入层是针对样本数据的,在实际部署的时候结构为`[-1, 28, 28, 1]`"
   ]
  },
  {
   "cell_type": "code",
   "execution_count": 28,
   "metadata": {},
   "outputs": [],
   "source": [
    "# 创建一个Graph对象\n",
    "g = tf.Graph()"
   ]
  },
  {
   "cell_type": "code",
   "execution_count": 29,
   "metadata": {},
   "outputs": [],
   "source": [
    "with g.as_default():\n",
    "    # 定义输入节点\n",
    "    x_image = tf.placeholder(\"float\", shape=[None, 28, 28, 1], name=\"input_node\")\n",
    "    # 第一层隐藏层\n",
    "    WFC1 = tf.constant(WFC1, name=\"WFC1\")\n",
    "    BFC1 = tf.constant(BFC1, name=\"BFC1\")\n",
    "    FC1 = tf.layers.flatten(x_image)\n",
    "    FC1 = tf.nn.relu(tf.matmul(FC1, WFC1) + BFC1)\n",
    "    # 第二层隐藏层\n",
    "    WFC2 = tf.constant(WFC2, name=\"WFC2\")\n",
    "    BFC2 = tf.constant(BFC2, name=\"BFC2\")\n",
    "    FC2 = tf.nn.relu(tf.matmul(FC1, WFC2) + BFC2)\n",
    "    # 第三层输出层\n",
    "    WFC3 = tf.constant(WFC3, name=\"WFC3\")\n",
    "    BFC3 = tf.constant(BFC3, name=\"BFC3\")\n",
    "    # 定义输出节点\n",
    "    OUTPUT = tf.nn.softmax(tf.matmul(FC2, WFC3) + BFC3, name=\"output_node\")\n",
    "    \n",
    "    \n",
    "    sess = tf.Session()\n",
    "    sess.run(tf.global_variables_initializer())\n",
    "\n",
    "    graph_def = g.as_graph_def()\n",
    "    # 保存模型,存放在同级目录下\n",
    "    tf.train.write_graph(graph_def, \"./\", \"nn_xo.pb\", as_text=False)\n",
    "    "
   ]
  }
 ],
 "metadata": {
  "kernelspec": {
   "display_name": "Python 3",
   "language": "python",
   "name": "python3"
  },
  "language_info": {
   "codemirror_mode": {
    "name": "ipython",
    "version": 3
   },
   "file_extension": ".py",
   "mimetype": "text/x-python",
   "name": "python",
   "nbconvert_exporter": "python",
   "pygments_lexer": "ipython3",
   "version": "3.6.8"
  }
 },
 "nbformat": 4,
 "nbformat_minor": 2
}
