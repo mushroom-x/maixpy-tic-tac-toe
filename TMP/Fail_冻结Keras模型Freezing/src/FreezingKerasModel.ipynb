{
 "cells": [
  {
   "cell_type": "code",
   "execution_count": 1,
   "metadata": {},
   "outputs": [
    {
     "name": "stderr",
     "output_type": "stream",
     "text": [
      "Using TensorFlow backend.\n"
     ]
    }
   ],
   "source": [
    "import numpy as np\n",
    "import tensorflow as tf\n",
    "from tensorflow import keras\n",
    "from tensorflow.keras.layers import Flatten, Dense\n",
    "from tensorflow.keras.layers import Input\n",
    "from tensorflow.keras.models import Model\n",
    "from keras.utils import to_categorical"
   ]
  },
  {
   "cell_type": "markdown",
   "metadata": {},
   "source": [
    "## 载入数据"
   ]
  },
  {
   "cell_type": "code",
   "execution_count": 2,
   "metadata": {},
   "outputs": [],
   "source": [
    "import pickle\n",
    "\n",
    "dataset = None\n",
    "\n",
    "with open('../../common/xo_dataset.bin', 'rb') as f:\n",
    "    dataset = pickle.load(f)"
   ]
  },
  {
   "cell_type": "code",
   "execution_count": 3,
   "metadata": {},
   "outputs": [],
   "source": [
    "# 训练集图像向量\n",
    "train_images = dataset['train_images']\n",
    "# 训练集标签\n",
    "train_labels = dataset['train_labels']\n",
    "# 测试集图像向量\n",
    "test_images = dataset['test_images']\n",
    "# 测试集标签\n",
    "test_labels = dataset['test_labels']"
   ]
  },
  {
   "cell_type": "code",
   "execution_count": 4,
   "metadata": {},
   "outputs": [],
   "source": [
    "train_images = train_images / 255.0\n",
    "test_images = test_images / 255.0"
   ]
  },
  {
   "cell_type": "code",
   "execution_count": 5,
   "metadata": {},
   "outputs": [],
   "source": [
    "train_labels = to_categorical(train_labels)\n",
    "test_labels = to_categorical(test_labels)"
   ]
  },
  {
   "cell_type": "code",
   "execution_count": null,
   "metadata": {},
   "outputs": [],
   "source": []
  },
  {
   "cell_type": "markdown",
   "metadata": {},
   "source": [
    "## 构建模型"
   ]
  },
  {
   "cell_type": "code",
   "execution_count": 6,
   "metadata": {},
   "outputs": [],
   "source": [
    "def NeuralNetwork(input_layer):\n",
    "    flat = Flatten()(input_layer)\n",
    "    dense1 = Dense(128, activation='relu')(flat)\n",
    "    dense2 = Dense(128, activation='relu')(dense1)\n",
    "    output = Dense(2, activation='softmax', name='output_node')(dense2)\n",
    "    return output"
   ]
  },
  {
   "cell_type": "code",
   "execution_count": 7,
   "metadata": {},
   "outputs": [],
   "source": [
    "# 定义输入层\n",
    "input_layer = Input(shape=(28, 28, 1), name='input_node')"
   ]
  },
  {
   "cell_type": "code",
   "execution_count": 8,
   "metadata": {},
   "outputs": [
    {
     "name": "stdout",
     "output_type": "stream",
     "text": [
      "WARNING:tensorflow:From /usr/local/lib/python3.6/dist-packages/tensorflow/python/ops/resource_variable_ops.py:435: colocate_with (from tensorflow.python.framework.ops) is deprecated and will be removed in a future version.\n",
      "Instructions for updating:\n",
      "Colocations handled automatically by placer.\n"
     ]
    }
   ],
   "source": [
    "# call the model?\n",
    "logits = NeuralNetwork(input_layer)"
   ]
  },
  {
   "cell_type": "code",
   "execution_count": 9,
   "metadata": {},
   "outputs": [],
   "source": [
    "# 定义模型\n",
    "keras_model = Model(input_layer, logits)"
   ]
  },
  {
   "cell_type": "code",
   "execution_count": 10,
   "metadata": {},
   "outputs": [],
   "source": [
    "# 编译模型\n",
    "keras_model.compile(optimizer = keras.optimizers.Adam(lr = 0.0001), \\\n",
    "    loss = 'categorical_crossentropy', metrics = ['accuracy'])"
   ]
  },
  {
   "cell_type": "code",
   "execution_count": 11,
   "metadata": {},
   "outputs": [
    {
     "data": {
      "text/plain": [
       "['input_node']"
      ]
     },
     "execution_count": 11,
     "metadata": {},
     "output_type": "execute_result"
    }
   ],
   "source": [
    "keras_model.input_names"
   ]
  },
  {
   "cell_type": "code",
   "execution_count": 12,
   "metadata": {},
   "outputs": [
    {
     "data": {
      "text/plain": [
       "['output_node']"
      ]
     },
     "execution_count": 12,
     "metadata": {},
     "output_type": "execute_result"
    }
   ],
   "source": [
    "keras_model.output_names"
   ]
  },
  {
   "cell_type": "markdown",
   "metadata": {},
   "source": [
    "## Keras模型转换为Estimator\n",
    "\n",
    "https://www.tensorflow.org/guide/estimators\n",
    "\n",
    "\n",
    "https://www.tensorflow.org/guide/estimators#creating_estimators_from_keras_models\n",
    "\n",
    "采用 Estimator 进行编程的概览\n",
    "\n",
    "https://www.tensorflow.org/guide/premade_estimators#overview_of_programming_with_estimators\n"
   ]
  },
  {
   "cell_type": "code",
   "execution_count": 13,
   "metadata": {},
   "outputs": [
    {
     "name": "stdout",
     "output_type": "stream",
     "text": [
      "INFO:tensorflow:Using default config.\n",
      "INFO:tensorflow:Using the Keras model provided.\n",
      "WARNING:tensorflow:From /usr/local/lib/python3.6/dist-packages/tensorflow/python/ops/math_ops.py:3066: to_int32 (from tensorflow.python.ops.math_ops) is deprecated and will be removed in a future version.\n",
      "Instructions for updating:\n",
      "Use tf.cast instead.\n",
      "INFO:tensorflow:Using config: {'_model_dir': './Keras_Neural_Network', '_tf_random_seed': None, '_save_summary_steps': 100, '_save_checkpoints_steps': None, '_save_checkpoints_secs': 600, '_session_config': allow_soft_placement: true\n",
      "graph_options {\n",
      "  rewrite_options {\n",
      "    meta_optimizer_iterations: ONE\n",
      "  }\n",
      "}\n",
      ", '_keep_checkpoint_max': 5, '_keep_checkpoint_every_n_hours': 10000, '_log_step_count_steps': 100, '_train_distribute': None, '_device_fn': None, '_protocol': None, '_eval_distribute': None, '_experimental_distribute': None, '_service': None, '_cluster_spec': <tensorflow.python.training.server_lib.ClusterSpec object at 0x7f43315e2d30>, '_task_type': 'worker', '_task_id': 0, '_global_id_in_cluster': 0, '_master': '', '_evaluation_master': '', '_is_chief': True, '_num_ps_replicas': 0, '_num_worker_replicas': 1}\n"
     ]
    }
   ],
   "source": [
    "\n",
    "#convert to an Estimator\n",
    "# the model_dir states where the graph and checkpoint files will be saved to\n",
    "est_model = tf.keras.estimator.model_to_estimator(keras_model = keras_model, model_dir = './Keras_Neural_Network')\n",
    "\n",
    "# 模型文件graph.pbtxt 还有检查点会保存在相对路径 ./Keras_Neural_Network"
   ]
  },
  {
   "cell_type": "code",
   "execution_count": 14,
   "metadata": {},
   "outputs": [
    {
     "name": "stdout",
     "output_type": "stream",
     "text": [
      "WARNING:tensorflow:From /usr/local/lib/python3.6/dist-packages/tensorflow_estimator/python/estimator/inputs/queues/feeding_queue_runner.py:62: QueueRunner.__init__ (from tensorflow.python.training.queue_runner_impl) is deprecated and will be removed in a future version.\n",
      "Instructions for updating:\n",
      "To construct input pipelines, use the `tf.data` module.\n",
      "WARNING:tensorflow:From /usr/local/lib/python3.6/dist-packages/tensorflow_estimator/python/estimator/inputs/queues/feeding_functions.py:500: add_queue_runner (from tensorflow.python.training.queue_runner_impl) is deprecated and will be removed in a future version.\n",
      "Instructions for updating:\n",
      "To construct input pipelines, use the `tf.data` module.\n",
      "INFO:tensorflow:Calling model_fn.\n",
      "INFO:tensorflow:Done calling model_fn.\n",
      "INFO:tensorflow:Warm-starting with WarmStartSettings: WarmStartSettings(ckpt_to_initialize_from='./Keras_Neural_Network/keras/keras_model.ckpt', vars_to_warm_start='.*', var_name_to_vocab_info={}, var_name_to_prev_var_name={})\n",
      "INFO:tensorflow:Warm-starting from: ('./Keras_Neural_Network/keras/keras_model.ckpt',)\n",
      "INFO:tensorflow:Warm-starting variable: dense/kernel; prev_var_name: Unchanged\n",
      "INFO:tensorflow:Warm-starting variable: dense/bias; prev_var_name: Unchanged\n",
      "INFO:tensorflow:Warm-starting variable: dense_1/kernel; prev_var_name: Unchanged\n",
      "INFO:tensorflow:Warm-starting variable: dense_1/bias; prev_var_name: Unchanged\n",
      "INFO:tensorflow:Warm-starting variable: output_node/kernel; prev_var_name: Unchanged\n",
      "INFO:tensorflow:Warm-starting variable: output_node/bias; prev_var_name: Unchanged\n",
      "INFO:tensorflow:Warm-starting variable: Adam/iterations; prev_var_name: Unchanged\n",
      "INFO:tensorflow:Warm-starting variable: Adam/lr; prev_var_name: Unchanged\n",
      "INFO:tensorflow:Warm-starting variable: Adam/beta_1; prev_var_name: Unchanged\n",
      "INFO:tensorflow:Warm-starting variable: Adam/beta_2; prev_var_name: Unchanged\n",
      "INFO:tensorflow:Warm-starting variable: Adam/decay; prev_var_name: Unchanged\n",
      "INFO:tensorflow:Warm-starting variable: training/Adam/Variable; prev_var_name: Unchanged\n",
      "INFO:tensorflow:Warm-starting variable: training/Adam/Variable_1; prev_var_name: Unchanged\n",
      "INFO:tensorflow:Warm-starting variable: training/Adam/Variable_2; prev_var_name: Unchanged\n",
      "INFO:tensorflow:Warm-starting variable: training/Adam/Variable_3; prev_var_name: Unchanged\n",
      "INFO:tensorflow:Warm-starting variable: training/Adam/Variable_4; prev_var_name: Unchanged\n",
      "INFO:tensorflow:Warm-starting variable: training/Adam/Variable_5; prev_var_name: Unchanged\n",
      "INFO:tensorflow:Warm-starting variable: training/Adam/Variable_6; prev_var_name: Unchanged\n",
      "INFO:tensorflow:Warm-starting variable: training/Adam/Variable_7; prev_var_name: Unchanged\n",
      "INFO:tensorflow:Warm-starting variable: training/Adam/Variable_8; prev_var_name: Unchanged\n",
      "INFO:tensorflow:Warm-starting variable: training/Adam/Variable_9; prev_var_name: Unchanged\n",
      "INFO:tensorflow:Warm-starting variable: training/Adam/Variable_10; prev_var_name: Unchanged\n",
      "INFO:tensorflow:Warm-starting variable: training/Adam/Variable_11; prev_var_name: Unchanged\n",
      "INFO:tensorflow:Warm-starting variable: training/Adam/Variable_12; prev_var_name: Unchanged\n",
      "INFO:tensorflow:Warm-starting variable: training/Adam/Variable_13; prev_var_name: Unchanged\n",
      "INFO:tensorflow:Warm-starting variable: training/Adam/Variable_14; prev_var_name: Unchanged\n",
      "INFO:tensorflow:Warm-starting variable: training/Adam/Variable_15; prev_var_name: Unchanged\n",
      "INFO:tensorflow:Warm-starting variable: training/Adam/Variable_16; prev_var_name: Unchanged\n",
      "INFO:tensorflow:Warm-starting variable: training/Adam/Variable_17; prev_var_name: Unchanged\n",
      "INFO:tensorflow:Create CheckpointSaverHook.\n",
      "INFO:tensorflow:Graph was finalized.\n",
      "INFO:tensorflow:Running local_init_op.\n",
      "INFO:tensorflow:Done running local_init_op.\n",
      "WARNING:tensorflow:From /usr/local/lib/python3.6/dist-packages/tensorflow/python/training/monitored_session.py:809: start_queue_runners (from tensorflow.python.training.queue_runner_impl) is deprecated and will be removed in a future version.\n",
      "Instructions for updating:\n",
      "To construct input pipelines, use the `tf.data` module.\n",
      "INFO:tensorflow:Saving checkpoints for 0 into ./Keras_Neural_Network/model.ckpt.\n",
      "INFO:tensorflow:loss = 0.8221948, step = 1\n",
      "INFO:tensorflow:global_step/sec: 165.642\n",
      "INFO:tensorflow:loss = 0.031007001, step = 101 (0.605 sec)\n",
      "INFO:tensorflow:global_step/sec: 183.652\n",
      "INFO:tensorflow:loss = 0.014433503, step = 201 (0.544 sec)\n",
      "INFO:tensorflow:global_step/sec: 192.176\n",
      "INFO:tensorflow:loss = 0.004274343, step = 301 (0.522 sec)\n",
      "INFO:tensorflow:global_step/sec: 193.391\n",
      "INFO:tensorflow:loss = 0.008866341, step = 401 (0.516 sec)\n",
      "INFO:tensorflow:global_step/sec: 208.193\n",
      "INFO:tensorflow:loss = 0.0060900752, step = 501 (0.480 sec)\n",
      "INFO:tensorflow:global_step/sec: 211.382\n",
      "INFO:tensorflow:loss = 0.0011673694, step = 601 (0.473 sec)\n",
      "INFO:tensorflow:global_step/sec: 211.251\n",
      "INFO:tensorflow:loss = 0.0033117207, step = 701 (0.473 sec)\n",
      "INFO:tensorflow:global_step/sec: 203.439\n",
      "INFO:tensorflow:loss = 0.0032646302, step = 801 (0.492 sec)\n",
      "INFO:tensorflow:global_step/sec: 212.95\n",
      "INFO:tensorflow:loss = 0.000583607, step = 901 (0.469 sec)\n",
      "INFO:tensorflow:global_step/sec: 208.763\n",
      "INFO:tensorflow:loss = 0.0012677155, step = 1001 (0.479 sec)\n",
      "INFO:tensorflow:global_step/sec: 207.81\n",
      "INFO:tensorflow:loss = 0.0018360838, step = 1101 (0.481 sec)\n",
      "INFO:tensorflow:global_step/sec: 200.775\n",
      "INFO:tensorflow:loss = 0.00036128965, step = 1201 (0.498 sec)\n",
      "INFO:tensorflow:global_step/sec: 207.152\n",
      "INFO:tensorflow:loss = 0.0005430282, step = 1301 (0.483 sec)\n",
      "INFO:tensorflow:global_step/sec: 210.478\n",
      "INFO:tensorflow:loss = 0.0010846872, step = 1401 (0.475 sec)\n",
      "INFO:tensorflow:Saving checkpoints for 1501 into ./Keras_Neural_Network/model.ckpt.\n",
      "INFO:tensorflow:Loss for final step: 6.2553605e-05.\n"
     ]
    },
    {
     "data": {
      "text/plain": [
       "<tensorflow_estimator.python.estimator.estimator.Estimator at 0x7f4328428f28>"
      ]
     },
     "execution_count": 14,
     "metadata": {},
     "output_type": "execute_result"
    }
   ],
   "source": [
    "\n",
    "# 准备训练数据\n",
    "train_input_fn = tf.compat.v1.estimator.inputs.numpy_input_fn(\n",
    "    x={keras_model.input_names[0]: train_images},\n",
    "    y=train_labels,\n",
    "    batch_size=128,\n",
    "    num_epochs=20,\n",
    "    shuffle=False)\n",
    "\n",
    "est_model.train(input_fn = train_input_fn, steps=2000)"
   ]
  },
  {
   "cell_type": "code",
   "execution_count": 17,
   "metadata": {},
   "outputs": [
    {
     "data": {
      "text/plain": [
       "(None, 28, 28, 1)"
      ]
     },
     "execution_count": 17,
     "metadata": {},
     "output_type": "execute_result"
    }
   ],
   "source": [
    "# 查看输入尺寸\n",
    "keras_model.input_shape"
   ]
  },
  {
   "cell_type": "markdown",
   "metadata": {},
   "source": [
    "[搭配 Estimator 使用 SavedModel\n",
    "](https://www.tensorflow.org/guide/saved_model#using_savedmodel_with_estimators)\n",
    "\n",
    "\n",
    "准备提供输入\n",
    "\n",
    "https://www.tensorflow.org/guide/saved_model#prepare_serving_inputs\n",
    "\n",
    "`serving_input_receiver_fn()`\n",
    "\n",
    "在投入使用系统将向其发出推理请求的图中添加占位符。\n",
    "添加将数据从输入格式转换为模型所预期的特征 Tensor 所需的任何额外操作。"
   ]
  },
  {
   "cell_type": "code",
   "execution_count": 21,
   "metadata": {},
   "outputs": [
    {
     "name": "stdout",
     "output_type": "stream",
     "text": [
      "INFO:tensorflow:Calling model_fn.\n",
      "INFO:tensorflow:Done calling model_fn.\n",
      "INFO:tensorflow:Signatures INCLUDED in export for Classify: None\n",
      "INFO:tensorflow:Signatures INCLUDED in export for Regress: None\n",
      "INFO:tensorflow:Signatures INCLUDED in export for Predict: ['serving_default']\n",
      "INFO:tensorflow:Signatures INCLUDED in export for Train: None\n",
      "INFO:tensorflow:Signatures INCLUDED in export for Eval: None\n",
      "INFO:tensorflow:Restoring parameters from ./Keras_Neural_Network/model.ckpt-1501\n",
      "INFO:tensorflow:Assets added to graph.\n",
      "INFO:tensorflow:No assets to write.\n",
      "INFO:tensorflow:SavedModel written to: saved_model/temp-b'1557321954'/saved_model.pb\n"
     ]
    },
    {
     "data": {
      "text/plain": [
       "b'saved_model/1557321954'"
      ]
     },
     "execution_count": 21,
     "metadata": {},
     "output_type": "execute_result"
    }
   ],
   "source": [
    "\n",
    "def serving_input_receiver_fn():\n",
    "    '''用于接收推理请求'''\n",
    "    # 占位符 制定输入的数据类型，尺寸\n",
    "    # 问题？ 需要重命名么?\n",
    "    input_node = tf.placeholder(dtype=tf.float32, shape=list(keras_model.input_shape), name='input_node')\n",
    "    # 接受的张量\n",
    "    receiver_tensors = {'input_node': input_node}\n",
    "    # 问题，这里的Feature是做什么的\n",
    "    features = receiver_tensors\n",
    "    \n",
    "    return tf.estimator.export.ServingInputReceiver(features, receiver_tensors)\n",
    "\n",
    "\n",
    "# 注：'saved_model'保存文件的路径，可以修改为其他　\n",
    "est_model.export_saved_model('saved_model', serving_input_receiver_fn)"
   ]
  },
  {
   "cell_type": "markdown",
   "metadata": {},
   "source": [
    "\n",
    "目录创建了一个文件夹叫做`saved_model`, 里面其中一个文件夹叫做`1557321954`\n",
    "里面有pb文件, 还有变量文件.\n",
    "```\n",
    "src$ tree saved_model/\n",
    "saved_model/\n",
    "└── 1557321954\n",
    "    ├── saved_model.pb\n",
    "    └── variables\n",
    "        ├── variables.data-00000-of-00001\n",
    "        └── variables.index\n",
    "\n",
    "2 directories, 3 files\n",
    "```"
   ]
  },
  {
   "cell_type": "markdown",
   "metadata": {},
   "source": [
    "##  Estimator转换成TFlite\n",
    "[How to convert a Tensorflow Estimator to Tensorflow Lite](https://medium.com/datadriveninvestor/how-to-convert-a-tensorflow-estimator-to-tensorflow-lite-a3509a9ba902)"
   ]
  },
  {
   "cell_type": "code",
   "execution_count": null,
   "metadata": {},
   "outputs": [],
   "source": []
  },
  {
   "cell_type": "markdown",
   "metadata": {},
   "source": [
    "## Freeze_Graph冻结图"
   ]
  },
  {
   "cell_type": "markdown",
   "metadata": {},
   "source": [
    "\n",
    "[面向工具开发者的 TensorFlow 模型文件指南](https://www.tensorflow.org/guide/extend/model_files#freezing)\n",
    "在训练期间权重通常不会存储在文件格式内，而是保存在单独的检查点文件中，并且图中的 Variable 操作可在初始化操作时加载最新的值。在部署到生产环境时，使用单独的文件往往不是很方便，因此有一个 freeze_graph.py 脚本可以获取图定义和一组检查点，并将它们冻结到一个文件中。\n",
    "\n",
    "这样做是为了加载 GraphDef，从最新的检查点文件中提取所有变量的值，然后将每个 Variable 操作替换为 Const（其中包含存储在其属性中的权重的数值数据）。然后，它会剥离所有未用于前向推断的无关节点，并将生成的 GraphDef 保存到输出文件中。\n",
    "\n",
    "[脚本地址 freeze_graph.py](https://github.com/tensorflow/tensorflow/blob/master/tensorflow/python/tools/freeze_graph.py)"
   ]
  },
  {
   "cell_type": "markdown",
   "metadata": {},
   "source": [
    "\n",
    "```\n",
    "freeze_graph --input_checkpoint=model.ck\n",
    "pt  --output_node_names=output_node\n",
    "```\n"
   ]
  },
  {
   "cell_type": "markdown",
   "metadata": {},
   "source": []
  },
  {
   "cell_type": "markdown",
   "metadata": {},
   "source": [
    "## Reference\n",
    "\n",
    "[Freezing a Keras model-Joseph Bullock](https://towardsdatascience.com/freezing-a-keras-model-c2e26cb84a38)"
   ]
  }
 ],
 "metadata": {
  "kernelspec": {
   "display_name": "Python 3",
   "language": "python",
   "name": "python3"
  },
  "language_info": {
   "codemirror_mode": {
    "name": "ipython",
    "version": 3
   },
   "file_extension": ".py",
   "mimetype": "text/x-python",
   "name": "python",
   "nbconvert_exporter": "python",
   "pygments_lexer": "ipython3",
   "version": "3.6.8"
  }
 },
 "nbformat": 4,
 "nbformat_minor": 2
}
