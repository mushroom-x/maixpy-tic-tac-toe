{
 "cells": [
  {
   "cell_type": "markdown",
   "metadata": {},
   "source": [
    "# 手写字母XO数据预处理"
   ]
  },
  {
   "cell_type": "markdown",
   "metadata": {},
   "source": [
    "## 概要"
   ]
  },
  {
   "cell_type": "markdown",
   "metadata": {},
   "source": [
    "先尝试做一下分类，　通过卷积神经网络分类，然后完成Tic-Tac-Toe的游戏．\n",
    "\n",
    "数据集可以来自于手写字母，提取字母中的`X`跟`O` ."
   ]
  },
  {
   "cell_type": "markdown",
   "metadata": {},
   "source": [
    "## EMNIST数据集\n",
    "\n",
    "https://www.nist.gov/node/1298471/emnist-dataset\n",
    "\n",
    "需要其中的**EMNIST Letters: 145,600 characters. 26 balanced classes.**数据集\n",
    "\n",
    "下载里面的gzip压缩包，只保留其中的`emnist-letters` 部分，手写字母数据集.\n",
    "\n",
    "解压缩里面的`gz`后缀的压缩包，里面是二进制格式的训练集跟测试集以及标签数据．\n",
    "\n"
   ]
  },
  {
   "cell_type": "markdown",
   "metadata": {},
   "source": [
    "![emnist-letters.png](./image/emnist-letters.png)\n"
   ]
  },
  {
   "cell_type": "markdown",
   "metadata": {},
   "source": [
    "安装拓展包`mlxtend` \n",
    "\n",
    "```\n",
    "sudo pip3 install mlxtend\n",
    "```\n"
   ]
  },
  {
   "cell_type": "markdown",
   "metadata": {},
   "source": [
    "## 载入数据集"
   ]
  },
  {
   "cell_type": "code",
   "execution_count": 1,
   "metadata": {},
   "outputs": [],
   "source": [
    "from mlxtend.data import loadlocal_mnist\n",
    "import matplotlib.pyplot as plt\n",
    "import numpy as np\n",
    "\n",
    "# 标签数据的二进制文件路径\n",
    "LABEL_FILE = \"emnist-letters-train-labels-idx1-ubyte\";\n",
    "# 图像数据的二进制文件路径\n",
    "IMAGE_FILE = \"emnist-letters-train-images-idx3-ubyte\";\n",
    "# 载入训练集与标签\n",
    "X, y = loadlocal_mnist(images_path=IMAGE_FILE,labels_path=LABEL_FILE)"
   ]
  },
  {
   "cell_type": "markdown",
   "metadata": {},
   "source": [
    "X是一个长度为124800x784的矩阵，每一行就是一张图片对应的向量, 维度是(784,)"
   ]
  },
  {
   "cell_type": "code",
   "execution_count": 2,
   "metadata": {},
   "outputs": [
    {
     "data": {
      "text/plain": [
       "(124800, 784)"
      ]
     },
     "execution_count": 2,
     "metadata": {},
     "output_type": "execute_result"
    }
   ],
   "source": [
    "X.shape"
   ]
  },
  {
   "cell_type": "markdown",
   "metadata": {},
   "source": [
    "## 显示样例数据集"
   ]
  },
  {
   "cell_type": "markdown",
   "metadata": {},
   "source": [
    "如果你想可视化图像需要将向量转换为28x28的矩阵，接下来再把矩阵转置一下．"
   ]
  },
  {
   "cell_type": "markdown",
   "metadata": {},
   "source": [
    "另外标签的范围是1-26, 代表`a`-`z` 26个字母．"
   ]
  },
  {
   "cell_type": "code",
   "execution_count": 3,
   "metadata": {},
   "outputs": [
    {
     "name": "stdout",
     "output_type": "stream",
     "text": [
      "z\n"
     ]
    },
    {
     "data": {
      "image/png": "[encoded data removed]",
      "text/plain": [
       "<Figure size 432x288 with 1 Axes>"
      ]
     },
     "metadata": {
      "needs_background": "light"
     },
     "output_type": "display_data"
    }
   ],
   "source": [
    "def array2img(x):\n",
    "    '''将(784,)的向量转换为图片格式28*28'''\n",
    "    x_img = x.reshape((28, 28))\n",
    "    x_img = x_img.T\n",
    "    return x_img\n",
    "\n",
    "def num2letter(num):\n",
    "    '''将标签数字转换为字母'''\n",
    "    return chr(ord('a') + num - 1)\n",
    "\n",
    "# 显示图片\n",
    "plt.imshow(array2img(X[14]), cmap='gray')\n",
    "print(num2letter(y[14]))"
   ]
  },
  {
   "cell_type": "markdown",
   "metadata": {},
   "source": [
    "## 筛选数据\n"
   ]
  },
  {
   "cell_type": "markdown",
   "metadata": {},
   "source": [
    "去除无关字符的测试集, 只保留`X`跟`O`对应的数据集还有标签，并将标签替换为0跟1\n",
    "\n",
    "| 字母 | 标签 |\n",
    "| ---- | ---- |\n",
    "| O    | 0    |\n",
    "| X    | 1    |"
   ]
  },
  {
   "cell_type": "code",
   "execution_count": 4,
   "metadata": {},
   "outputs": [],
   "source": [
    "def letter2label(letter):\n",
    "    return ord(letter) - ord('a') + 1"
   ]
  },
  {
   "cell_type": "code",
   "execution_count": 5,
   "metadata": {},
   "outputs": [],
   "source": [
    "# 获取字母X跟O对应的序号\n",
    "xo_indexs = np.where(np.logical_or(y==letter2label('o'), y==letter2label('x')))"
   ]
  },
  {
   "cell_type": "code",
   "execution_count": 6,
   "metadata": {},
   "outputs": [
    {
     "data": {
      "text/plain": [
       "(array([     3,      9,     17, ..., 124742, 124748, 124798]),)"
      ]
     },
     "execution_count": 6,
     "metadata": {},
     "output_type": "execute_result"
    }
   ],
   "source": [
    "xo_indexs"
   ]
  },
  {
   "cell_type": "code",
   "execution_count": 7,
   "metadata": {},
   "outputs": [],
   "source": [
    "# 索引数据\n",
    "X_train = X[xo_indexs]\n",
    "y_train = y[xo_indexs]"
   ]
  },
  {
   "cell_type": "code",
   "execution_count": 8,
   "metadata": {},
   "outputs": [],
   "source": [
    "# 标签转换为0,1\n",
    "y_train = np.uint8(y_train == letter2label('x'))"
   ]
  },
  {
   "cell_type": "markdown",
   "metadata": {},
   "source": [
    "## 测试集执行相同操作\n"
   ]
  },
  {
   "cell_type": "code",
   "execution_count": 9,
   "metadata": {},
   "outputs": [],
   "source": [
    "test_image_file = 'emnist-letters-test-images-idx3-ubyte'\n",
    "test_label_file = 'emnist-letters-test-labels-idx1-ubyte'\n",
    "X_test, y_test = loadlocal_mnist(images_path=test_image_file,labels_path=test_label_file)\n",
    "xo_indexs = np.where(np.logical_or(y_test==letter2label('o'), y_test==letter2label('x')))\n",
    "X_test = X_test[xo_indexs]\n",
    "y_test = y_test[xo_indexs]\n",
    "y_test = np.uint8(y_test == letter2label('x'))"
   ]
  },
  {
   "cell_type": "markdown",
   "metadata": {},
   "source": [
    "## 序列化保存数据"
   ]
  },
  {
   "cell_type": "code",
   "execution_count": 10,
   "metadata": {},
   "outputs": [],
   "source": [
    "import pickle"
   ]
  },
  {
   "cell_type": "code",
   "execution_count": 11,
   "metadata": {},
   "outputs": [],
   "source": [
    "# 创建一个字典格式的数据集\n",
    "dataset = {\n",
    "    'X_train': X_train,\n",
    "    'y_train': y_train,\n",
    "    'X_test': X_test,\n",
    "    'y_test': y_test\n",
    "}"
   ]
  },
  {
   "cell_type": "code",
   "execution_count": 12,
   "metadata": {},
   "outputs": [],
   "source": [
    "# 序列化保存在文件\n",
    "with open('xo_dataset.bin', 'wb') as f:\n",
    "    pickle.dump(dataset, f)"
   ]
  }
 ],
 "metadata": {
  "kernelspec": {
   "display_name": "Python 3",
   "language": "python",
   "name": "python3"
  },
  "language_info": {
   "codemirror_mode": {
    "name": "ipython",
    "version": 3
   },
   "file_extension": ".py",
   "mimetype": "text/x-python",
   "name": "python",
   "nbconvert_exporter": "python",
   "pygments_lexer": "ipython3",
   "version": "3.6.7"
  }
 },
 "nbformat": 4,
 "nbformat_minor": 2
}
