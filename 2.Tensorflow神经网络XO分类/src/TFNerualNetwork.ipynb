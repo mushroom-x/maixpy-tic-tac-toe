{
 "cells": [
  {
   "cell_type": "code",
   "execution_count": 1,
   "metadata": {},
   "outputs": [
    {
     "name": "stderr",
     "output_type": "stream",
     "text": [
      "Using TensorFlow backend.\n"
     ]
    }
   ],
   "source": [
    "import tensorflow as tf\n",
    "from keras.utils import to_categorical\n",
    "import numpy as np"
   ]
  },
  {
   "cell_type": "markdown",
   "metadata": {},
   "source": [
    "## 导入数据"
   ]
  },
  {
   "cell_type": "code",
   "execution_count": 2,
   "metadata": {},
   "outputs": [],
   "source": [
    "import pickle\n",
    "\n",
    "dataset = None\n",
    "\n",
    "with open('../../common/xo_dataset.bin', 'rb') as f:\n",
    "    dataset = pickle.load(f)\n",
    "    \n",
    "# 训练集图像向量\n",
    "train_images = dataset['train_images']\n",
    "# 训练集标签\n",
    "train_labels = dataset['train_labels']\n",
    "# 测试集图像向量\n",
    "test_images = dataset['test_images']\n",
    "# 测试集标签\n",
    "test_labels = dataset['test_labels']"
   ]
  },
  {
   "cell_type": "markdown",
   "metadata": {},
   "source": [
    "## 数据预处理"
   ]
  },
  {
   "cell_type": "code",
   "execution_count": 3,
   "metadata": {},
   "outputs": [],
   "source": [
    "train_images = train_images / 255.0\n",
    "test_images = test_images / 255.0\n",
    "\n",
    "train_labels = to_categorical(train_labels)\n",
    "test_labels = to_categorical(test_labels)"
   ]
  },
  {
   "cell_type": "markdown",
   "metadata": {},
   "source": [
    "## 生成Batch数据\n"
   ]
  },
  {
   "cell_type": "code",
   "execution_count": 4,
   "metadata": {},
   "outputs": [],
   "source": [
    "def next_batch(train_images, train_labels, batch_size):\n",
    "    idxs = np.array([i for i in range(len(train_images))])\n",
    "    np.random.shuffle(idxs)\n",
    "    top_idxs = idxs[:batch_size]\n",
    "    return train_images[top_idxs], train_labels[top_idxs]\n",
    "    "
   ]
  },
  {
   "cell_type": "markdown",
   "metadata": {},
   "source": [
    "## 权重初始化"
   ]
  },
  {
   "cell_type": "code",
   "execution_count": 5,
   "metadata": {},
   "outputs": [],
   "source": [
    "\n",
    "def weight_variable(shape):\n",
    "    '''\n",
    "    权重初始化  weight init\n",
    "    初始化为一个接近0的很小的正数  init to a small number close to zero\n",
    "    '''\n",
    "    initial = tf.truncated_normal(shape, stddev = 0.1)\n",
    "    return tf.Variable(initial)\n",
    "\n",
    "\n",
    "\n",
    "def bias_variable(shape):\n",
    "    '''Bias变量初始化'''\n",
    "    initial = tf.constant(0.1, shape = shape)\n",
    "    return tf.Variable(initial)\n"
   ]
  },
  {
   "cell_type": "markdown",
   "metadata": {},
   "source": [
    "定义网络结构"
   ]
  },
  {
   "cell_type": "code",
   "execution_count": 6,
   "metadata": {},
   "outputs": [
    {
     "name": "stdout",
     "output_type": "stream",
     "text": [
      "WARNING:tensorflow:From <ipython-input-6-57a998a70b5e>:11: flatten (from tensorflow.python.layers.core) is deprecated and will be removed in a future version.\n",
      "Instructions for updating:\n",
      "Use keras.layers.flatten instead.\n",
      "WARNING:tensorflow:From /usr/local/lib/python3.6/dist-packages/tensorflow/python/framework/op_def_library.py:263: colocate_with (from tensorflow.python.framework.ops) is deprecated and will be removed in a future version.\n",
      "Instructions for updating:\n",
      "Colocations handled automatically by placer.\n",
      "WARNING:tensorflow:From <ipython-input-6-57a998a70b5e>:17: calling dropout (from tensorflow.python.ops.nn_ops) with keep_prob is deprecated and will be removed in a future version.\n",
      "Instructions for updating:\n",
      "Please use `rate` instead of `keep_prob`. Rate should be set to `rate = 1 - keep_prob`.\n"
     ]
    }
   ],
   "source": [
    "# 输入的是28x28的图片 通道数为1\n",
    "input_size = [None, 28, 28]\n",
    "# Dropout的概率\n",
    "keep_prob = tf.placeholder(\"float\")\n",
    "\n",
    "# 输入数据\n",
    "x = tf.placeholder(tf.float32, input_size)\n",
    "x_image = tf.reshape(x, [-1, 28, 28, 1])  \n",
    "\n",
    "# Flatten层\n",
    "x_flat = tf.layers.flatten(x_image)\n",
    "# 第一层 全连接层1\n",
    "W_fc1 = weight_variable([784, 128])\n",
    "b_fc1 = bias_variable([128])\n",
    "h_fc1 = tf.nn.relu(tf.matmul(x_flat, W_fc1) + b_fc1)\n",
    "# Dropout\n",
    "h_fc1_drop = tf.nn.dropout(h_fc1, keep_prob)\n",
    "\n",
    "# 第二层 全连接层2\n",
    "W_fc2 = weight_variable([128, 128])\n",
    "b_fc2 = bias_variable([128])\n",
    "h_fc2 = tf.nn.relu(tf.matmul(h_fc1_drop, W_fc2) + b_fc2)\n",
    "h_fc2_drop = tf.nn.dropout(h_fc2, keep_prob)\n",
    "\n",
    "\n",
    "# 第三层 Softmax输出层\n",
    "W_fc3 = weight_variable([128, 2])\n",
    "b_fc3 = bias_variable([2])\n",
    "y_nn = tf.nn.softmax(tf.matmul(h_fc2_drop, W_fc3) + b_fc3)\n"
   ]
  },
  {
   "cell_type": "markdown",
   "metadata": {},
   "source": [
    "训练和评估模型\n",
    "ADAM优化器来做梯度最速下降,feed_dict中加入参数keep_prob控制dropout比例\n"
   ]
  },
  {
   "cell_type": "code",
   "execution_count": 7,
   "metadata": {},
   "outputs": [],
   "source": [
    "# 真实的label数据 one_hot矩阵\n",
    "y_ref = tf.placeholder(\"float\", [None, 2])"
   ]
  },
  {
   "cell_type": "code",
   "execution_count": 8,
   "metadata": {},
   "outputs": [],
   "source": [
    "# 交叉熵\n",
    "cross_entropy = -tf.reduce_sum(y_ref * tf.log(y_nn))\n",
    "learning_rate = 0.0001 # 学习率\n",
    "# 定义优化器为ADam\n",
    "train_step = tf.train.AdamOptimizer(learning_rate).minimize(cross_entropy) #使用adam优化器来以0.0001的学习率来进行微调\n",
    "# 是否准确的布尔值列表\n",
    "correct_prediction = tf.equal(tf.argmax(y_nn,1), tf.argmax(y_ref,1)) #判断预测标签和实际标签是否匹配\n",
    "#　计算平均值即为准确率\n",
    "accuracy = tf.reduce_mean(tf.cast(correct_prediction,\"float\"))"
   ]
  },
  {
   "cell_type": "code",
   "execution_count": 9,
   "metadata": {},
   "outputs": [],
   "source": [
    "saver = tf.train.Saver()\n",
    "sess = tf.Session()\n",
    "sess.run(tf.global_variables_initializer()) #初始化变量\n",
    "merged = tf.summary.merge_all() \n",
    "writer = tf.summary.FileWriter('logs',sess.graph)\n"
   ]
  },
  {
   "cell_type": "code",
   "execution_count": 10,
   "metadata": {},
   "outputs": [
    {
     "name": "stdout",
     "output_type": "stream",
     "text": [
      "step 0, train_accuracy 0.52\n",
      "step 100, train_accuracy 0.993333\n",
      "step 200, train_accuracy 1\n",
      "step 300, train_accuracy 0.993333\n",
      "step 400, train_accuracy 0.993333\n"
     ]
    }
   ],
   "source": [
    "for i in range(500): #开始训练模型，循环训练5000次\n",
    "    batch = next_batch(train_images, train_labels, 150) #batch大小设置为50\n",
    "    if i % 100 == 0:\n",
    "        train_accuracy = accuracy.eval(session = sess,\n",
    "                                       feed_dict = {x:batch[0], y_ref:batch[1], keep_prob:1.0})\n",
    "        print(\"step %d, train_accuracy %g\" %(i, train_accuracy))\n",
    "        # 保存检查点\n",
    "        saver.save(sess, 'model/nn_xo.ckpt')\n",
    "    train_step.run(session = sess, feed_dict = {x:batch[0], y_ref:batch[1],\n",
    "                   keep_prob:0.7}) #神经元输出保持不变的概率 keep_prob 为0.5\n"
   ]
  },
  {
   "cell_type": "code",
   "execution_count": 11,
   "metadata": {},
   "outputs": [
    {
     "name": "stdout",
     "output_type": "stream",
     "text": [
      "WARNING:tensorflow:From /usr/local/lib/python3.6/dist-packages/tensorflow/python/training/saver.py:1266: checkpoint_exists (from tensorflow.python.training.checkpoint_management) is deprecated and will be removed in a future version.\n",
      "Instructions for updating:\n",
      "Use standard file APIs to check for files with this prefix.\n",
      "INFO:tensorflow:Restoring parameters from model/nn_xo.ckpt\n",
      "test accuracy 0.99125\n"
     ]
    }
   ],
   "source": [
    "sess = tf.InteractiveSession()\n",
    "sess.run(tf.global_variables_initializer())\n",
    "saver = tf.train.Saver(tf.global_variables())\n",
    "saver.restore(sess, 'model/nn_xo.ckpt')\n",
    "# 查看测试集的准确率\n",
    "print( \"test accuracy %g\" % accuracy.eval(feed_dict={\n",
    "    x:test_images, y_ref:test_labels, keep_prob:1.0}))\n"
   ]
  },
  {
   "cell_type": "code",
   "execution_count": 12,
   "metadata": {},
   "outputs": [],
   "source": [
    "\n",
    "# 获取权重矩阵　偏移向量\n",
    "WFC1 = W_fc1.eval()\n",
    "BFC1 = b_fc1.eval()\n",
    "WFC2 = W_fc2.eval()\n",
    "BFC2 = b_fc2.eval()\n",
    "WFC3 = W_fc3.eval()\n",
    "BFC3 = b_fc3.eval()"
   ]
  },
  {
   "cell_type": "code",
   "execution_count": 13,
   "metadata": {},
   "outputs": [],
   "source": [
    "# 创建一个新的图\n",
    "# 变量改为常量"
   ]
  },
  {
   "cell_type": "code",
   "execution_count": 14,
   "metadata": {},
   "outputs": [],
   "source": [
    "g = tf.Graph()"
   ]
  },
  {
   "cell_type": "code",
   "execution_count": 15,
   "metadata": {},
   "outputs": [],
   "source": [
    "with g.as_default():\n",
    "    x_image = tf.placeholder(\"float\", shape=[None, 28, 28, 1], name=\"input_node\")\n",
    "    \n",
    "    WFC1 = tf.constant(WFC1, name=\"WFC1\")\n",
    "    BFC1 = tf.constant(BFC1, name=\"BFC1\")\n",
    "    FC1 = tf.layers.flatten(x_image)\n",
    "    FC1 = tf.nn.relu(tf.matmul(FC1, WFC1) + BFC1)\n",
    "    \n",
    "    WFC2 = tf.constant(WFC2, name=\"WFC2\")\n",
    "    BFC2 = tf.constant(BFC2, name=\"BFC2\")\n",
    "    FC2 = tf.nn.relu(tf.matmul(FC1, WFC2) + BFC2)\n",
    "    \n",
    "    WFC3 = tf.constant(WFC3, name=\"WFC3\")\n",
    "    BFC3 = tf.constant(BFC3, name=\"BFC3\")\n",
    "    OUTPUT = tf.nn.softmax(tf.matmul(FC2, WFC3) + BFC3, name=\"output_node\")\n",
    "    \n",
    "    \n",
    "    sess = tf.Session()\n",
    "    sess.run(tf.global_variables_initializer())\n",
    "\n",
    "    graph_def = g.as_graph_def()\n",
    "    tf.train.write_graph(graph_def, \"./\", \"nn_xo.pb\", as_text=False)\n",
    "    "
   ]
  }
 ],
 "metadata": {
  "kernelspec": {
   "display_name": "Python 3",
   "language": "python",
   "name": "python3"
  },
  "language_info": {
   "codemirror_mode": {
    "name": "ipython",
    "version": 3
   },
   "file_extension": ".py",
   "mimetype": "text/x-python",
   "name": "python",
   "nbconvert_exporter": "python",
   "pygments_lexer": "ipython3",
   "version": "3.6.8"
  }
 },
 "nbformat": 4,
 "nbformat_minor": 2
}
